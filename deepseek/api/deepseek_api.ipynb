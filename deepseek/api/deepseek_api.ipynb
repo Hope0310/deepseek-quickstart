{
 "cells": [
  {
   "cell_type": "code",
   "execution_count": 1,
   "id": "588ea9f4-c556-4771-b57d-9d4b6e7151cd",
   "metadata": {},
   "outputs": [
    {
     "name": "stdout",
     "output_type": "stream",
     "text": [
      "Looking in indexes: https://pypi.tuna.tsinghua.edu.cn/simple\n",
      "Requirement already satisfied: openai==1.82.0 in /Users/hope/.pyenv/versions/anaconda3-2024.10-1/lib/python3.12/site-packages (1.82.0)\n",
      "Requirement already satisfied: anyio<5,>=3.5.0 in /Users/hope/.pyenv/versions/anaconda3-2024.10-1/lib/python3.12/site-packages (from openai==1.82.0) (4.2.0)\n",
      "Requirement already satisfied: distro<2,>=1.7.0 in /Users/hope/.pyenv/versions/anaconda3-2024.10-1/lib/python3.12/site-packages (from openai==1.82.0) (1.9.0)\n",
      "Requirement already satisfied: httpx<1,>=0.23.0 in /Users/hope/.pyenv/versions/anaconda3-2024.10-1/lib/python3.12/site-packages (from openai==1.82.0) (0.27.0)\n",
      "Requirement already satisfied: jiter<1,>=0.4.0 in /Users/hope/.pyenv/versions/anaconda3-2024.10-1/lib/python3.12/site-packages (from openai==1.82.0) (0.10.0)\n",
      "Requirement already satisfied: pydantic<3,>=1.9.0 in /Users/hope/.pyenv/versions/anaconda3-2024.10-1/lib/python3.12/site-packages (from openai==1.82.0) (2.8.2)\n",
      "Requirement already satisfied: sniffio in /Users/hope/.pyenv/versions/anaconda3-2024.10-1/lib/python3.12/site-packages (from openai==1.82.0) (1.3.0)\n",
      "Requirement already satisfied: tqdm>4 in /Users/hope/.pyenv/versions/anaconda3-2024.10-1/lib/python3.12/site-packages (from openai==1.82.0) (4.67.1)\n",
      "Requirement already satisfied: typing-extensions<5,>=4.11 in /Users/hope/.pyenv/versions/anaconda3-2024.10-1/lib/python3.12/site-packages (from openai==1.82.0) (4.11.0)\n",
      "Requirement already satisfied: idna>=2.8 in /Users/hope/.pyenv/versions/anaconda3-2024.10-1/lib/python3.12/site-packages (from anyio<5,>=3.5.0->openai==1.82.0) (3.7)\n",
      "Requirement already satisfied: certifi in /Users/hope/.pyenv/versions/anaconda3-2024.10-1/lib/python3.12/site-packages (from httpx<1,>=0.23.0->openai==1.82.0) (2025.4.26)\n",
      "Requirement already satisfied: httpcore==1.* in /Users/hope/.pyenv/versions/anaconda3-2024.10-1/lib/python3.12/site-packages (from httpx<1,>=0.23.0->openai==1.82.0) (1.0.2)\n",
      "Requirement already satisfied: h11<0.15,>=0.13 in /Users/hope/.pyenv/versions/anaconda3-2024.10-1/lib/python3.12/site-packages (from httpcore==1.*->httpx<1,>=0.23.0->openai==1.82.0) (0.14.0)\n",
      "Requirement already satisfied: annotated-types>=0.4.0 in /Users/hope/.pyenv/versions/anaconda3-2024.10-1/lib/python3.12/site-packages (from pydantic<3,>=1.9.0->openai==1.82.0) (0.6.0)\n",
      "Requirement already satisfied: pydantic-core==2.20.1 in /Users/hope/.pyenv/versions/anaconda3-2024.10-1/lib/python3.12/site-packages (from pydantic<3,>=1.9.0->openai==1.82.0) (2.20.1)\n",
      "Note: you may need to restart the kernel to use updated packages.\n"
     ]
    }
   ],
   "source": [
    "%pip install openai==1.82.0"
   ]
  },
  {
   "cell_type": "code",
   "execution_count": 1,
   "id": "0bf925a7-445c-41b0-ad3f-faebd93e9b74",
   "metadata": {},
   "outputs": [],
   "source": [
    "import os\n",
    "from openai import OpenAI\n",
    "\n",
    "# 从环境变量获取 DeepSeek API Key\n",
    "api_key = os.getenv(\"DEEPSEEK_API_KEY\")\n",
    "if not api_key:\n",
    "    raise ValueError(\"请设置 DEEPSEEK_API_KEY 环境变量\")\n",
    "\n",
    "# 初始化 OpenAI 客户端（假设 DeepSeek 的 API 兼容 OpenAI 格式）\n",
    "client = OpenAI(\n",
    "    api_key=api_key,\n",
    "    base_url=\"https://api.deepseek.com/v1\",  # DeepSeek API 的基地址\n",
    ")\n",
    "\n",
    "# 定义提示词\n",
    "prompt = \"\"\"请帮我用 HTML 生成一个五子棋游戏，所有代码都保存在一个 HTML 中。\"\"\""
   ]
  },
  {
   "cell_type": "code",
   "execution_count": 3,
   "id": "f2b56f5a-9eff-461f-9ca3-51ffc7b43fbc",
   "metadata": {},
   "outputs": [
    {
     "name": "stdout",
     "output_type": "stream",
     "text": [
      "五子棋游戏已保存为 gomoku.html\n"
     ]
    }
   ],
   "source": [
    "try:\n",
    "    # 调用 DeepSeek Chat API\n",
    "    response = client.chat.completions.create(\n",
    "        model=\"deepseek-chat\",  # 或 DeepSeek 提供的其他模型名称\n",
    "        messages=[\n",
    "            {\"role\": \"system\", \"content\": \"你是一个专业的 Web 开发助手，擅长用 HTML/CSS/JavaScript 编写游戏。\"},\n",
    "            {\"role\": \"user\", \"content\": prompt}\n",
    "        ],\n",
    "        temperature=0.7,\n",
    "        stream=False\n",
    "    )\n",
    "\n",
    "    # 提取生成的 HTML 内容\n",
    "    if response.choices and len(response.choices) > 0:\n",
    "        html_content = response.choices[0].message.content\n",
    "\n",
    "        # 保存到文件\n",
    "        with open(\"gomoku.html\", \"w\", encoding=\"utf-8\") as f:\n",
    "            f.write(html_content)\n",
    "        print(\"五子棋游戏已保存为 gomoku.html\")\n",
    "    else:\n",
    "        print(\"未收到有效响应\")\n",
    "\n",
    "except Exception as e:\n",
    "    print(f\"调用 API 出错: {e}\")"
   ]
  }
 ],
 "metadata": {
  "kernelspec": {
   "display_name": "base",
   "language": "python",
   "name": "python3"
  },
  "language_info": {
   "codemirror_mode": {
    "name": "ipython",
    "version": 3
   },
   "file_extension": ".py",
   "mimetype": "text/x-python",
   "name": "python",
   "nbconvert_exporter": "python",
   "pygments_lexer": "ipython3",
   "version": "3.12.2"
  }
 },
 "nbformat": 4,
 "nbformat_minor": 5
}
